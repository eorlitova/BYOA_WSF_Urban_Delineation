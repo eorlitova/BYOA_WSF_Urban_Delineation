{
 "cells": [
  {
   "cell_type": "markdown",
   "id": "446f4395-75e4-4dce-b393-3cdb730281b1",
   "metadata": {},
   "source": [
    "### <b>Estimate costs"
   ]
  },
  {
   "cell_type": "markdown",
   "id": "0a8feee9-1f8c-4343-9746-14a833dedb07",
   "metadata": {},
   "source": [
    "#### <b> parameters"
   ]
  },
  {
   "cell_type": "code",
   "execution_count": null,
   "id": "9b54615d-3a09-4d56-966a-402c9313f2e9",
   "metadata": {
    "tags": []
   },
   "outputs": [],
   "source": [
    "# actual parameters\n",
    "REFyear = 2020\n",
    "aoi = \"POLYGON ((19 48.3, 19 51.3, 12 51.3, 12 48.3, 19 48.3))\""
   ]
  },
  {
   "cell_type": "markdown",
   "id": "317dc140-e8dc-4457-9d48-ec2d4e1a5b2f",
   "metadata": {},
   "source": [
    "##### <b> REFyear validity:"
   ]
  },
  {
   "cell_type": "code",
   "execution_count": null,
   "id": "3fbbb09c-8c3d-411a-82cb-4ddcf634e9f4",
   "metadata": {
    "tags": []
   },
   "outputs": [],
   "source": [
    "# REFyear validity check:\n",
    "# valid values from 1975 to 2020, 5 years interval:\n",
    "REFyearVV=[1975, 1980, 1985, 1990, 1995, 2000, 2005, 2010, 2015, 2020]\n",
    "\n",
    "if not REFyear in REFyearVV: #contains:\n",
    "    print('! REFyear is out of range')\n",
    "    raise StopExecution"
   ]
  },
  {
   "cell_type": "markdown",
   "id": "9b433514-00d1-4302-b3f9-b885798a2d12",
   "metadata": {},
   "source": [
    "##### <b> aoi validity:"
   ]
  },
  {
   "cell_type": "code",
   "execution_count": null,
   "id": "a074cd94-1ce2-4970-b165-7b2ff1f53be2",
   "metadata": {
    "tags": []
   },
   "outputs": [],
   "source": [
    "# AOI\n",
    "# check selected aoi:\n",
    "from shapely import wkt\n",
    "import geopandas as gpd\n",
    "\n",
    "polygon = wkt.loads(aoi)\n",
    "\n",
    "AOI = gpd.GeoDataFrame({\"id\":1,\"geometry\":[polygon]})\n",
    "AOI.set_crs(epsg=4326, inplace=True)  # WGS84"
   ]
  },
  {
   "cell_type": "code",
   "execution_count": null,
   "id": "efff5453-6415-4a27-aedf-7aedea7301bb",
   "metadata": {
    "tags": []
   },
   "outputs": [],
   "source": [
    "import folium\n",
    "from branca.element import Figure\n",
    "fig = Figure(width=500, height=500)\n",
    "\n",
    "m = AOI.explore(style_kwds={'fillColor':'None','color':'blue','weight': 1}, name='aoi')\n",
    "\n",
    "lat_interval = 1\n",
    "lon_interval = 1\n",
    "\n",
    "# parallels:\n",
    "for lat in range(-90, 91, lat_interval):\n",
    "     folium.PolyLine([[lat, -180],[lat, 180]], weight=0.5).add_to(m)\n",
    "# meridians:\n",
    "for lon in range(-180, 181, lon_interval):\n",
    "    folium.PolyLine([[-90, lon],[90, lon]], weight=0.5).add_to(m)\n",
    "\n",
    "fig.add_child(m)\n",
    "m"
   ]
  },
  {
   "cell_type": "markdown",
   "id": "5ea07015-336c-48c3-851a-153faf1bd7a7",
   "metadata": {},
   "source": [
    "##### <b> price calculation:"
   ]
  },
  {
   "cell_type": "code",
   "execution_count": null,
   "id": "25209ce1-12eb-4f1e-9fdb-dd5edb9b7e9d",
   "metadata": {
    "tags": []
   },
   "outputs": [],
   "source": [
    "# calculate the price in credits based on input parameters\n",
    "from pyproj import Geod\n",
    "# specify a named ellipsoid\n",
    "geod = Geod(ellps=\"WGS84\")\n",
    "\n",
    "area = int(abs(geod.geometry_area_perimeter(polygon)[0])/1000000)\n",
    "# print('# Geodesic area: {:.3f} m^2'.format(area))\n",
    "print('# Geodesic area: {:.3f} km^2'.format(area))"
   ]
  },
  {
   "cell_type": "markdown",
   "id": "89e8999b-d7ca-446d-bb09-d17543c32a33",
   "metadata": {},
   "source": [
    "PROPOSED REVENUE MODEL FOR THE ALGORITHM EXECUTION \n",
    "\n",
    "Unit price per area of interest (progressive volume discount based on the ordered volume during last 12 months) \n",
    "\n",
    "101.011 km2 to 10.000.000 km2 – 0.99 EUR per 1.000 km2 \n",
    "\n",
    "10.000.000 km2 to 50.000.000 km2 – 0.9 EUR per 1.000 km2 \n",
    "\n",
    "more than 50.000.000 km2 – 0.8 EUR per 1.000 km2 \n",
    "\n",
    "Price per 1 run (combination of algorithm/input dataset/parameters set-up) \n",
    "\n",
    "Minimum individual order value is 100 EUR.  "
   ]
  },
  {
   "cell_type": "code",
   "execution_count": null,
   "id": "16fd8424-e2e2-49dc-8f67-34455f95d364",
   "metadata": {
    "tags": []
   },
   "outputs": [],
   "source": [
    "area = 170000\n",
    "\n",
    "if area >= 50000000:\n",
    "    price=int((area/1000)*0.8)\n",
    "elif area >= 10000000:\n",
    "    price=int((area/1000)*0.9)\n",
    "elif area >= 101011:\n",
    "    price=int((area/1000)*0.99)    \n",
    "else:\n",
    "    price=100\n",
    "\n",
    "print('price is : ',price, ' EUR')"
   ]
  },
  {
   "cell_type": "code",
   "execution_count": null,
   "id": "3c5f8b66-a5cc-4908-bb42-e1c2a84d1b55",
   "metadata": {
    "tags": []
   },
   "outputs": [],
   "source": [
    "# use this snippet to transmit the price to the platform\n",
    "import scrapbook\n",
    "scrapbook.glue(\"\", price)\n"
   ]
  },
  {
   "cell_type": "code",
   "execution_count": null,
   "id": "f7389fd5-0b7a-4bda-bd24-b794daa2ab14",
   "metadata": {},
   "outputs": [],
   "source": []
  },
  {
   "cell_type": "code",
   "execution_count": null,
   "id": "93da8874-c28f-443c-a6a2-90f9ed584991",
   "metadata": {},
   "outputs": [],
   "source": []
  }
 ],
 "metadata": {
  "kernelspec": {
   "display_name": "users-edc-2022.10-14",
   "language": "python",
   "name": "conda-env-users-edc-2022.10-14-py"
  },
  "language_info": {
   "codemirror_mode": {
    "name": "ipython",
    "version": 3
   },
   "file_extension": ".py",
   "mimetype": "text/x-python",
   "name": "python",
   "nbconvert_exporter": "python",
   "pygments_lexer": "ipython3",
   "version": "3.9.16"
  }
 },
 "nbformat": 4,
 "nbformat_minor": 5
}
